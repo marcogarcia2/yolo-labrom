version https://git-lfs.github.com/spec/v1
oid sha256:3022dd8e3b27d2d6ddecd1e3b53c89e07c7ecbe9fa8d77364d4c811482679992
size 294559547
