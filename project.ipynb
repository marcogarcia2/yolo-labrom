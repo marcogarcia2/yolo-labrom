version https://git-lfs.github.com/spec/v1
oid sha256:4b03a3d7b8ef897b9277efcbe084202631b36292be8129f9b16ea3d570c38066
size 59336349
