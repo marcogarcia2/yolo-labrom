version https://git-lfs.github.com/spec/v1
oid sha256:3ab6379e0c944698d2ab7b5fe7186c409135f8effebf564fde0cffc891189616
size 2479967
