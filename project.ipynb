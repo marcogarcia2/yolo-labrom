version https://git-lfs.github.com/spec/v1
oid sha256:f45f4c4481a4dc82f778a91d7ae2d27b8ab5bb1146506fac7c0411f1ef0d75e6
size 2295837
