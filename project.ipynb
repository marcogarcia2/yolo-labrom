version https://git-lfs.github.com/spec/v1
oid sha256:3e04107d5cf4c4d2629647640ade0a135b372e04e49bf7288329e5e3e5447e20
size 2484042
