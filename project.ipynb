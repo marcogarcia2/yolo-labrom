version https://git-lfs.github.com/spec/v1
oid sha256:0bc67b62a9c907d51b56ebd454a6dd035b62f8ccd63183fb66939530e171a26c
size 908
