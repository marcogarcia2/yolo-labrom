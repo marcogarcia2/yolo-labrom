version https://git-lfs.github.com/spec/v1
oid sha256:02e490dd344a6ea3b76731500ff3eabd0bd519e987b70aee7821b1cc80e888a7
size 2482552
