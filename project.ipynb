version https://git-lfs.github.com/spec/v1
oid sha256:6c08117b89290132ed75b3a1d1cc5c168293bc43bad439ae57645be1758ef10f
size 1184
