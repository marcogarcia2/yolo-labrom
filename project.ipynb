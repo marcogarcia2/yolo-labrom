version https://git-lfs.github.com/spec/v1
oid sha256:2a7fd3192c7d50d71fd964f88b0de0fcfc6177a52440998f90b4aa17640f33ce
size 2470918
