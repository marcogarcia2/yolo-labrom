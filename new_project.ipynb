version https://git-lfs.github.com/spec/v1
oid sha256:a24fb61fb855ff81a3429352fe8c3f5d9119f5c60c13fd4285fd62a2338d3407
size 1265435
