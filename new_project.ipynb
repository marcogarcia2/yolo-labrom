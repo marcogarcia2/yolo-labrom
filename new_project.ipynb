version https://git-lfs.github.com/spec/v1
oid sha256:d22377d040160deb0d1381d0b7b851f03f4ad3e35e46f0f8295d4642b3c6262c
size 1260280
