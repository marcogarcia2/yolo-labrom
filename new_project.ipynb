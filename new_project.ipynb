version https://git-lfs.github.com/spec/v1
oid sha256:6a344f339b8aee30f0793d4fae24edd1bc67b47809c3d8a738fcd94484ab093b
size 1258018
