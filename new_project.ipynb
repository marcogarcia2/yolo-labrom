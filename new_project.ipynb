version https://git-lfs.github.com/spec/v1
oid sha256:af66a41aa2b60ec9f58bf747a0b0891c6086bd166da9a4ed2485119597e5028e
size 1254252
