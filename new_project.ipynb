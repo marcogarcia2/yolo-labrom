version https://git-lfs.github.com/spec/v1
oid sha256:0e67d856cba6fb00fe9f327492fd4b44fa023b9f4466115fd6dfb639cdbc4d76
size 1257869
